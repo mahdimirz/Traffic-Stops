{
    "cells": [
        {
            "cell_type": "code",
            "execution_count": 1,
            "metadata": {
                "scrolled": true
            },
            "outputs": [
                {
                    "name": "stdout",
                    "output_type": "stream",
                    "text": "Requirement already satisfied: ipython-sql in /opt/conda/envs/Python36/lib/python3.6/site-packages (0.4.0)\nRequirement already satisfied: ipython-genutils>=0.1.0 in /opt/conda/envs/Python36/lib/python3.6/site-packages (from ipython-sql) (0.2.0)\nRequirement already satisfied: sqlparse in /opt/conda/envs/Python36/lib/python3.6/site-packages (from ipython-sql) (0.3.1)\nRequirement already satisfied: ipython>=1.0 in /opt/conda/envs/Python36/lib/python3.6/site-packages (from ipython-sql) (7.2.0)\nRequirement already satisfied: sqlalchemy>=0.6.7 in /opt/conda/envs/Python36/lib/python3.6/site-packages (from ipython-sql) (1.2.18)\nRequirement already satisfied: prettytable<1 in /opt/conda/envs/Python36/lib/python3.6/site-packages (from ipython-sql) (0.7.2)\nRequirement already satisfied: six in /opt/conda/envs/Python36/lib/python3.6/site-packages (from ipython-sql) (1.12.0)\nRequirement already satisfied: decorator in /opt/conda/envs/Python36/lib/python3.6/site-packages (from ipython>=1.0->ipython-sql) (4.3.2)\nRequirement already satisfied: pygments in /opt/conda/envs/Python36/lib/python3.6/site-packages (from ipython>=1.0->ipython-sql) (2.3.1)\nRequirement already satisfied: prompt-toolkit<2.1.0,>=2.0.0 in /opt/conda/envs/Python36/lib/python3.6/site-packages (from ipython>=1.0->ipython-sql) (2.0.8)\nRequirement already satisfied: jedi>=0.10 in /opt/conda/envs/Python36/lib/python3.6/site-packages (from ipython>=1.0->ipython-sql) (0.13.2)\nRequirement already satisfied: backcall in /opt/conda/envs/Python36/lib/python3.6/site-packages (from ipython>=1.0->ipython-sql) (0.1.0)\nRequirement already satisfied: pickleshare in /opt/conda/envs/Python36/lib/python3.6/site-packages (from ipython>=1.0->ipython-sql) (0.7.5)\nRequirement already satisfied: pexpect; sys_platform != \"win32\" in /opt/conda/envs/Python36/lib/python3.6/site-packages (from ipython>=1.0->ipython-sql) (4.6.0)\nRequirement already satisfied: traitlets>=4.2 in /opt/conda/envs/Python36/lib/python3.6/site-packages (from ipython>=1.0->ipython-sql) (4.3.2)\nRequirement already satisfied: setuptools>=18.5 in /opt/conda/envs/Python36/lib/python3.6/site-packages (from ipython>=1.0->ipython-sql) (40.8.0)\nRequirement already satisfied: wcwidth in /opt/conda/envs/Python36/lib/python3.6/site-packages (from prompt-toolkit<2.1.0,>=2.0.0->ipython>=1.0->ipython-sql) (0.1.7)\nRequirement already satisfied: parso>=0.3.0 in /opt/conda/envs/Python36/lib/python3.6/site-packages (from jedi>=0.10->ipython>=1.0->ipython-sql) (0.3.2)\nRequirement already satisfied: ptyprocess>=0.5 in /opt/conda/envs/Python36/lib/python3.6/site-packages (from pexpect; sys_platform != \"win32\"->ipython>=1.0->ipython-sql) (0.6.0)\n"
                }
            ],
            "source": "# installing ipython-sql to enable using queries in Python\n!pip install ipython-sql"
        },
        {
            "cell_type": "code",
            "execution_count": 117,
            "metadata": {},
            "outputs": [],
            "source": "# importing necessary libraries\nimport pandas as pd\nimport numpy as np\nimport matplotlib.pyplot as plt\nfrom sklearn import datasets, linear_model\nfrom sklearn.linear_model import LinearRegression\nfrom sklearn import metrics\nfrom sklearn.metrics import r2_score\nimport statsmodels.api as sm\nimport scipy\nfrom scipy import stats\nfrom scipy.stats import chisquare\nfrom scipy.spatial import ConvexHull, convex_hull_plot_2d"
        },
        {
            "cell_type": "code",
            "execution_count": 3,
            "metadata": {},
            "outputs": [],
            "source": "%load_ext sql"
        },
        {
            "cell_type": "code",
            "execution_count": 141,
            "metadata": {},
            "outputs": [
                {
                    "name": "stdout",
                    "output_type": "stream",
                    "text": "Connected!\n"
                }
            ],
            "source": "# The code was removed by Watson Studio for sharing."
        },
        {
            "cell_type": "code",
            "execution_count": 5,
            "metadata": {},
            "outputs": [
                {
                    "name": "stdout",
                    "output_type": "stream",
                    "text": " * ibm_db_sa://xsh62386:***@dashdb-txn-sbox-yp-dal09-10.services.dal.bluemix.net:50000/BLUDB\nDone.\n"
                },
                {
                    "data": {
                        "text/html": "<table>\n    <tr>\n        <th>mt_total</th>\n    </tr>\n    <tr>\n        <td>825118</td>\n    </tr>\n</table>",
                        "text/plain": "[(Decimal('825118'),)]"
                    },
                    "execution_count": 5,
                    "metadata": {},
                    "output_type": "execute_result"
                }
            ],
            "source": "# total number of rows in MT_CLEANED\n%sql select count(*) as MT_TOTAL from MT_CLEANED"
        },
        {
            "cell_type": "code",
            "execution_count": 6,
            "metadata": {},
            "outputs": [
                {
                    "name": "stdout",
                    "output_type": "stream",
                    "text": " * ibm_db_sa://xsh62386:***@dashdb-txn-sbox-yp-dal09-10.services.dal.bluemix.net:50000/BLUDB\nDone.\n"
                },
                {
                    "data": {
                        "text/html": "<table>\n    <tr>\n        <th>vt_total</th>\n    </tr>\n    <tr>\n        <td>283285</td>\n    </tr>\n</table>",
                        "text/plain": "[(Decimal('283285'),)]"
                    },
                    "execution_count": 6,
                    "metadata": {},
                    "output_type": "execute_result"
                }
            ],
            "source": "# total number of rows in VT_CLEANED\n%sql select count(*) as VT_TOTAL from VT_CLEANED"
        },
        {
            "cell_type": "code",
            "execution_count": 7,
            "metadata": {},
            "outputs": [
                {
                    "name": "stdout",
                    "output_type": "stream",
                    "text": " * ibm_db_sa://xsh62386:***@dashdb-txn-sbox-yp-dal09-10.services.dal.bluemix.net:50000/BLUDB\nDone.\n"
                },
                {
                    "data": {
                        "text/html": "<table>\n    <tr>\n        <th>males</th>\n    </tr>\n    <tr>\n        <td>556934</td>\n    </tr>\n</table>",
                        "text/plain": "[(Decimal('556934'),)]"
                    },
                    "execution_count": 7,
                    "metadata": {},
                    "output_type": "execute_result"
                }
            ],
            "source": "# Problem 1:\n\n# total male drivers in MT\n\n%sql select count(*) as MALES from MT_CLEANED where DRIVER_GENDER = 'M'"
        },
        {
            "cell_type": "code",
            "execution_count": 8,
            "metadata": {},
            "outputs": [
                {
                    "data": {
                        "text/plain": "0.6749749732765495"
                    },
                    "execution_count": 8,
                    "metadata": {},
                    "output_type": "execute_result"
                }
            ],
            "source": "# Answer to Problem 1:\n556934/825118"
        },
        {
            "cell_type": "code",
            "execution_count": 33,
            "metadata": {},
            "outputs": [
                {
                    "name": "stdout",
                    "output_type": "stream",
                    "text": " * ibm_db_sa://xsh62386:***@dashdb-txn-sbox-yp-dal09-10.services.dal.bluemix.net:50000/BLUDB\nDone.\n"
                },
                {
                    "data": {
                        "text/html": "<table>\n    <tr>\n        <th>1</th>\n    </tr>\n    <tr>\n        <td>203641</td>\n    </tr>\n</table>",
                        "text/plain": "[(Decimal('203641'),)]"
                    },
                    "execution_count": 33,
                    "metadata": {},
                    "output_type": "execute_result"
                }
            ],
            "source": "# Problem 2:\n\n# total OOS drivers in MT\n\n%sql select count(*) from MT_CLEANED where OUT_OF_STATE = 'TRUE'"
        },
        {
            "cell_type": "code",
            "execution_count": 34,
            "metadata": {},
            "outputs": [
                {
                    "name": "stdout",
                    "output_type": "stream",
                    "text": " * ibm_db_sa://xsh62386:***@dashdb-txn-sbox-yp-dal09-10.services.dal.bluemix.net:50000/BLUDB\nDone.\n"
                },
                {
                    "data": {
                        "text/html": "<table>\n    <tr>\n        <th>1</th>\n    </tr>\n    <tr>\n        <td>4868</td>\n    </tr>\n</table>",
                        "text/plain": "[(Decimal('4868'),)]"
                    },
                    "execution_count": 34,
                    "metadata": {},
                    "output_type": "execute_result"
                }
            ],
            "source": "# total arrested OOS drivers in MT\n\n%sql select count(*) from MT_CLEANED where OUT_OF_STATE = 'TRUE' and IS_ARRESTED = 'TRUE'"
        },
        {
            "cell_type": "code",
            "execution_count": 35,
            "metadata": {},
            "outputs": [
                {
                    "name": "stdout",
                    "output_type": "stream",
                    "text": " * ibm_db_sa://xsh62386:***@dashdb-txn-sbox-yp-dal09-10.services.dal.bluemix.net:50000/BLUDB\nDone.\n"
                },
                {
                    "data": {
                        "text/html": "<table>\n    <tr>\n        <th>1</th>\n    </tr>\n    <tr>\n        <td>616778</td>\n    </tr>\n</table>",
                        "text/plain": "[(Decimal('616778'),)]"
                    },
                    "execution_count": 35,
                    "metadata": {},
                    "output_type": "execute_result"
                }
            ],
            "source": "# total in state drivers in MT\n\n%sql select count(*) from MT_CLEANED where OUT_OF_STATE = 'FALSE'"
        },
        {
            "cell_type": "code",
            "execution_count": 36,
            "metadata": {
                "scrolled": true
            },
            "outputs": [
                {
                    "name": "stdout",
                    "output_type": "stream",
                    "text": " * ibm_db_sa://xsh62386:***@dashdb-txn-sbox-yp-dal09-10.services.dal.bluemix.net:50000/BLUDB\nDone.\n"
                },
                {
                    "data": {
                        "text/html": "<table>\n    <tr>\n        <th>1</th>\n    </tr>\n    <tr>\n        <td>12190</td>\n    </tr>\n</table>",
                        "text/plain": "[(Decimal('12190'),)]"
                    },
                    "execution_count": 36,
                    "metadata": {},
                    "output_type": "execute_result"
                }
            ],
            "source": "# total arrested in state drivers in MT\n\n%sql select count(*) from MT_CLEANED where OUT_OF_STATE = 'FALSE' and IS_ARRESTED = 'TRUE'"
        },
        {
            "cell_type": "code",
            "execution_count": 38,
            "metadata": {},
            "outputs": [
                {
                    "name": "stdout",
                    "output_type": "stream",
                    "text": "Factor increase is =  1.2095129351452942\n"
                }
            ],
            "source": "# Answer to Problem 2:\nprint (\"Factor increase is = \", (4868/203641)/(12190/616778))"
        },
        {
            "cell_type": "code",
            "execution_count": 44,
            "metadata": {},
            "outputs": [
                {
                    "name": "stdout",
                    "output_type": "stream",
                    "text": "t-statistic is =  0.0003926449037919341\n"
                }
            ],
            "source": "# Answer to Problem 2.a:\nprint(\"t-statistic is = \", chisquare([4868/203641, 12190/616778]).statistic)"
        },
        {
            "cell_type": "code",
            "execution_count": 10,
            "metadata": {},
            "outputs": [
                {
                    "name": "stdout",
                    "output_type": "stream",
                    "text": " * ibm_db_sa://xsh62386:***@dashdb-txn-sbox-yp-dal09-10.services.dal.bluemix.net:50000/BLUDB\nDone.\n"
                },
                {
                    "data": {
                        "text/html": "<table>\n    <tr>\n        <th>speeding</th>\n    </tr>\n    <tr>\n        <td>543010</td>\n    </tr>\n</table>",
                        "text/plain": "[(Decimal('543010'),)]"
                    },
                    "execution_count": 10,
                    "metadata": {},
                    "output_type": "execute_result"
                }
            ],
            "source": "# Problem 3:\n\n# Total stopped speeding drivers in MT\n\n%sql select count(*) as SPEEDING from MT_CLEANED where VIOLATION like '%Speeding%'"
        },
        {
            "cell_type": "code",
            "execution_count": 11,
            "metadata": {},
            "outputs": [
                {
                    "data": {
                        "text/plain": "0.6580998111785223"
                    },
                    "execution_count": 11,
                    "metadata": {},
                    "output_type": "execute_result"
                }
            ],
            "source": "# Answer to Problem 3:\n543010/825118"
        },
        {
            "cell_type": "code",
            "execution_count": 12,
            "metadata": {},
            "outputs": [
                {
                    "name": "stdout",
                    "output_type": "stream",
                    "text": " * ibm_db_sa://xsh62386:***@dashdb-txn-sbox-yp-dal09-10.services.dal.bluemix.net:50000/BLUDB\nDone.\n"
                },
                {
                    "data": {
                        "text/html": "<table>\n    <tr>\n        <th>dui_mt</th>\n    </tr>\n    <tr>\n        <td>8914</td>\n    </tr>\n</table>",
                        "text/plain": "[(Decimal('8914'),)]"
                    },
                    "execution_count": 12,
                    "metadata": {},
                    "output_type": "execute_result"
                }
            ],
            "source": "# Problem 4:\n\n# Total stopped DUI drivers in MT\n\n%sql select count(*) as DUI_MT from MT_CLEANED where VIOLATION like '%DUI%'"
        },
        {
            "cell_type": "code",
            "execution_count": 13,
            "metadata": {},
            "outputs": [
                {
                    "name": "stdout",
                    "output_type": "stream",
                    "text": " * ibm_db_sa://xsh62386:***@dashdb-txn-sbox-yp-dal09-10.services.dal.bluemix.net:50000/BLUDB\nDone.\n"
                },
                {
                    "data": {
                        "text/html": "<table>\n    <tr>\n        <th>dui_vt</th>\n    </tr>\n    <tr>\n        <td>749</td>\n    </tr>\n</table>",
                        "text/plain": "[(Decimal('749'),)]"
                    },
                    "execution_count": 13,
                    "metadata": {},
                    "output_type": "execute_result"
                }
            ],
            "source": "# Total stopped DUI drivers in VT\n\n%sql select count(*) as DUI_VT from VT_CLEANED where VIOLATION like '%DUI%'"
        },
        {
            "cell_type": "code",
            "execution_count": 14,
            "metadata": {},
            "outputs": [
                {
                    "data": {
                        "text/plain": "4.085999694420856"
                    },
                    "execution_count": 14,
                    "metadata": {},
                    "output_type": "execute_result"
                }
            ],
            "source": "# Answer to Problem 4:\n(8914/825118)/(749/283285)"
        },
        {
            "cell_type": "code",
            "execution_count": 15,
            "metadata": {
                "scrolled": true
            },
            "outputs": [
                {
                    "name": "stdout",
                    "output_type": "stream",
                    "text": " * ibm_db_sa://xsh62386:***@dashdb-txn-sbox-yp-dal09-10.services.dal.bluemix.net:50000/BLUDB\nDone.\n"
                },
                {
                    "data": {
                        "text/html": "<div>\n<style scoped>\n    .dataframe tbody tr th:only-of-type {\n        vertical-align: middle;\n    }\n\n    .dataframe tbody tr th {\n        vertical-align: top;\n    }\n\n    .dataframe thead th {\n        text-align: right;\n    }\n</style>\n<table border=\"1\" class=\"dataframe\">\n  <thead>\n    <tr style=\"text-align: right;\">\n      <th></th>\n      <th>stp_year</th>\n      <th>avg_mnfctr_year</th>\n    </tr>\n  </thead>\n  <tbody>\n    <tr>\n      <th>0</th>\n      <td>2009.0</td>\n      <td>2000.980214</td>\n    </tr>\n    <tr>\n      <th>1</th>\n      <td>2010.0</td>\n      <td>2001.521377</td>\n    </tr>\n    <tr>\n      <th>2</th>\n      <td>2011.0</td>\n      <td>2002.280937</td>\n    </tr>\n    <tr>\n      <th>3</th>\n      <td>2012.0</td>\n      <td>2003.362206</td>\n    </tr>\n    <tr>\n      <th>4</th>\n      <td>2013.0</td>\n      <td>2003.905175</td>\n    </tr>\n    <tr>\n      <th>5</th>\n      <td>2014.0</td>\n      <td>2004.482506</td>\n    </tr>\n    <tr>\n      <th>6</th>\n      <td>2015.0</td>\n      <td>2005.295766</td>\n    </tr>\n    <tr>\n      <th>7</th>\n      <td>2016.0</td>\n      <td>2005.872128</td>\n    </tr>\n    <tr>\n      <th>8</th>\n      <td>NaN</td>\n      <td>1999.272727</td>\n    </tr>\n  </tbody>\n</table>\n</div>",
                        "text/plain": "   stp_year avg_mnfctr_year\n0    2009.0     2000.980214\n1    2010.0     2001.521377\n2    2011.0     2002.280937\n3    2012.0     2003.362206\n4    2013.0     2003.905175\n5    2014.0     2004.482506\n6    2015.0     2005.295766\n7    2016.0     2005.872128\n8       NaN     1999.272727"
                    },
                    "execution_count": 15,
                    "metadata": {},
                    "output_type": "execute_result"
                }
            ],
            "source": "# Problem 5:\n\n# Grouping stopped cars by their stop date's year and  \n# calculating their average manufature year:\n\nQRes = %sql  select year(STOP_DATE) as STP_YEAR, avg(VEHICLE_YEAR) as AVG_MNFCTR_YEAR from MT_CLEANED \\\n    group by year(STOP_DATE) \\\n    order by year(STOP_DATE)\n\n# converting the results to a dataframe:\n\nP5 = QRes.DataFrame()\nP5"
        },
        {
            "cell_type": "code",
            "execution_count": 16,
            "metadata": {
                "scrolled": false
            },
            "outputs": [
                {
                    "data": {
                        "text/html": "<div>\n<style scoped>\n    .dataframe tbody tr th:only-of-type {\n        vertical-align: middle;\n    }\n\n    .dataframe tbody tr th {\n        vertical-align: top;\n    }\n\n    .dataframe thead th {\n        text-align: right;\n    }\n</style>\n<table border=\"1\" class=\"dataframe\">\n  <thead>\n    <tr style=\"text-align: right;\">\n      <th></th>\n      <th>stp_year</th>\n      <th>avg_mnfctr_year</th>\n    </tr>\n  </thead>\n  <tbody>\n    <tr>\n      <th>0</th>\n      <td>2009.0</td>\n      <td>2000.980214</td>\n    </tr>\n    <tr>\n      <th>1</th>\n      <td>2010.0</td>\n      <td>2001.521377</td>\n    </tr>\n    <tr>\n      <th>2</th>\n      <td>2011.0</td>\n      <td>2002.280937</td>\n    </tr>\n    <tr>\n      <th>3</th>\n      <td>2012.0</td>\n      <td>2003.362206</td>\n    </tr>\n    <tr>\n      <th>4</th>\n      <td>2013.0</td>\n      <td>2003.905175</td>\n    </tr>\n    <tr>\n      <th>5</th>\n      <td>2014.0</td>\n      <td>2004.482506</td>\n    </tr>\n    <tr>\n      <th>6</th>\n      <td>2015.0</td>\n      <td>2005.295766</td>\n    </tr>\n    <tr>\n      <th>7</th>\n      <td>2016.0</td>\n      <td>2005.872128</td>\n    </tr>\n  </tbody>\n</table>\n</div>",
                        "text/plain": "   stp_year avg_mnfctr_year\n0    2009.0     2000.980214\n1    2010.0     2001.521377\n2    2011.0     2002.280937\n3    2012.0     2003.362206\n4    2013.0     2003.905175\n5    2014.0     2004.482506\n6    2015.0     2005.295766\n7    2016.0     2005.872128"
                    },
                    "execution_count": 16,
                    "metadata": {},
                    "output_type": "execute_result"
                }
            ],
            "source": "# dropping NaN value from dataframe:\n\nP5 = P5.drop([8])\nP5"
        },
        {
            "cell_type": "code",
            "execution_count": 17,
            "metadata": {},
            "outputs": [
                {
                    "data": {
                        "text/plain": "LinearRegression(copy_X=True, fit_intercept=True, n_jobs=None,\n         normalize=False)"
                    },
                    "execution_count": 17,
                    "metadata": {},
                    "output_type": "execute_result"
                }
            ],
            "source": "# creating a linear regression model and fitting:\n\nlm = LinearRegression()\nX = P5[['stp_year']]\nY = P5['avg_mnfctr_year']\nlm.fit(X,Y)"
        },
        {
            "cell_type": "code",
            "execution_count": 18,
            "metadata": {},
            "outputs": [
                {
                    "data": {
                        "text/plain": "array([2008.84316532])"
                    },
                    "execution_count": 18,
                    "metadata": {},
                    "output_type": "execute_result"
                }
            ],
            "source": "# Answer to Problem 5:\nlm.intercept_ + (lm.coef_ * 2020)"
        },
        {
            "cell_type": "code",
            "execution_count": 106,
            "metadata": {},
            "outputs": [],
            "source": "# Answer to Problem 5a:\n\n# Unfortunately this function didn't work:\n\n# lm.pvalues"
        },
        {
            "cell_type": "code",
            "execution_count": 20,
            "metadata": {
                "scrolled": false
            },
            "outputs": [
                {
                    "name": "stdout",
                    "output_type": "stream",
                    "text": " * ibm_db_sa://xsh62386:***@dashdb-txn-sbox-yp-dal09-10.services.dal.bluemix.net:50000/BLUDB\nDone.\n"
                },
                {
                    "data": {
                        "text/html": "<div>\n<style scoped>\n    .dataframe tbody tr th:only-of-type {\n        vertical-align: middle;\n    }\n\n    .dataframe tbody tr th {\n        vertical-align: top;\n    }\n\n    .dataframe thead th {\n        text-align: right;\n    }\n</style>\n<table border=\"1\" class=\"dataframe\">\n  <thead>\n    <tr style=\"text-align: right;\">\n      <th></th>\n      <th>HOUR</th>\n      <th>COUNT</th>\n    </tr>\n  </thead>\n  <tbody>\n    <tr>\n      <th>0</th>\n      <td>0.0</td>\n      <td>14923</td>\n    </tr>\n    <tr>\n      <th>1</th>\n      <td>1.0</td>\n      <td>10405</td>\n    </tr>\n    <tr>\n      <th>2</th>\n      <td>2.0</td>\n      <td>6202</td>\n    </tr>\n    <tr>\n      <th>3</th>\n      <td>3.0</td>\n      <td>681</td>\n    </tr>\n    <tr>\n      <th>4</th>\n      <td>4.0</td>\n      <td>229</td>\n    </tr>\n    <tr>\n      <th>5</th>\n      <td>5.0</td>\n      <td>1092</td>\n    </tr>\n    <tr>\n      <th>6</th>\n      <td>6.0</td>\n      <td>5473</td>\n    </tr>\n    <tr>\n      <th>7</th>\n      <td>7.0</td>\n      <td>32936</td>\n    </tr>\n    <tr>\n      <th>8</th>\n      <td>8.0</td>\n      <td>47336</td>\n    </tr>\n    <tr>\n      <th>9</th>\n      <td>9.0</td>\n      <td>45386</td>\n    </tr>\n    <tr>\n      <th>10</th>\n      <td>10.0</td>\n      <td>47519</td>\n    </tr>\n    <tr>\n      <th>11</th>\n      <td>11.0</td>\n      <td>40166</td>\n    </tr>\n    <tr>\n      <th>12</th>\n      <td>12.0</td>\n      <td>34694</td>\n    </tr>\n    <tr>\n      <th>13</th>\n      <td>13.0</td>\n      <td>46078</td>\n    </tr>\n    <tr>\n      <th>14</th>\n      <td>14.0</td>\n      <td>64637</td>\n    </tr>\n    <tr>\n      <th>15</th>\n      <td>15.0</td>\n      <td>75707</td>\n    </tr>\n    <tr>\n      <th>16</th>\n      <td>16.0</td>\n      <td>67883</td>\n    </tr>\n    <tr>\n      <th>17</th>\n      <td>17.0</td>\n      <td>57549</td>\n    </tr>\n    <tr>\n      <th>18</th>\n      <td>18.0</td>\n      <td>56060</td>\n    </tr>\n    <tr>\n      <th>19</th>\n      <td>19.0</td>\n      <td>42050</td>\n    </tr>\n    <tr>\n      <th>20</th>\n      <td>20.0</td>\n      <td>36281</td>\n    </tr>\n    <tr>\n      <th>21</th>\n      <td>21.0</td>\n      <td>34275</td>\n    </tr>\n    <tr>\n      <th>22</th>\n      <td>22.0</td>\n      <td>31843</td>\n    </tr>\n    <tr>\n      <th>23</th>\n      <td>23.0</td>\n      <td>25702</td>\n    </tr>\n    <tr>\n      <th>24</th>\n      <td>NaN</td>\n      <td>11</td>\n    </tr>\n  </tbody>\n</table>\n</div>",
                        "text/plain": "    HOUR  COUNT\n0    0.0  14923\n1    1.0  10405\n2    2.0   6202\n3    3.0    681\n4    4.0    229\n5    5.0   1092\n6    6.0   5473\n7    7.0  32936\n8    8.0  47336\n9    9.0  45386\n10  10.0  47519\n11  11.0  40166\n12  12.0  34694\n13  13.0  46078\n14  14.0  64637\n15  15.0  75707\n16  16.0  67883\n17  17.0  57549\n18  18.0  56060\n19  19.0  42050\n20  20.0  36281\n21  21.0  34275\n22  22.0  31843\n23  23.0  25702\n24   NaN     11"
                    },
                    "execution_count": 20,
                    "metadata": {},
                    "output_type": "execute_result"
                }
            ],
            "source": "# Problem 6:\n\n# calculating total stops per every hour in MT:\n\nMTCount = %sql select hour(STOP_TIME) as hour, count(*) as COUNT from MT_CLEANED \\\n            group by hour(STOP_TIME) \\\n            order by hour(STOP_TIME)\ndf1 = MTCount.DataFrame()\ndf1"
        },
        {
            "cell_type": "code",
            "execution_count": 21,
            "metadata": {},
            "outputs": [
                {
                    "data": {
                        "text/html": "<div>\n<style scoped>\n    .dataframe tbody tr th:only-of-type {\n        vertical-align: middle;\n    }\n\n    .dataframe tbody tr th {\n        vertical-align: top;\n    }\n\n    .dataframe thead th {\n        text-align: right;\n    }\n</style>\n<table border=\"1\" class=\"dataframe\">\n  <thead>\n    <tr style=\"text-align: right;\">\n      <th></th>\n      <th>HOUR</th>\n      <th>COUNT</th>\n    </tr>\n  </thead>\n  <tbody>\n    <tr>\n      <th>0</th>\n      <td>0.0</td>\n      <td>14923</td>\n    </tr>\n    <tr>\n      <th>1</th>\n      <td>1.0</td>\n      <td>10405</td>\n    </tr>\n    <tr>\n      <th>2</th>\n      <td>2.0</td>\n      <td>6202</td>\n    </tr>\n    <tr>\n      <th>3</th>\n      <td>3.0</td>\n      <td>681</td>\n    </tr>\n    <tr>\n      <th>4</th>\n      <td>4.0</td>\n      <td>229</td>\n    </tr>\n    <tr>\n      <th>5</th>\n      <td>5.0</td>\n      <td>1092</td>\n    </tr>\n    <tr>\n      <th>6</th>\n      <td>6.0</td>\n      <td>5473</td>\n    </tr>\n    <tr>\n      <th>7</th>\n      <td>7.0</td>\n      <td>32936</td>\n    </tr>\n    <tr>\n      <th>8</th>\n      <td>8.0</td>\n      <td>47336</td>\n    </tr>\n    <tr>\n      <th>9</th>\n      <td>9.0</td>\n      <td>45386</td>\n    </tr>\n    <tr>\n      <th>10</th>\n      <td>10.0</td>\n      <td>47519</td>\n    </tr>\n    <tr>\n      <th>11</th>\n      <td>11.0</td>\n      <td>40166</td>\n    </tr>\n    <tr>\n      <th>12</th>\n      <td>12.0</td>\n      <td>34694</td>\n    </tr>\n    <tr>\n      <th>13</th>\n      <td>13.0</td>\n      <td>46078</td>\n    </tr>\n    <tr>\n      <th>14</th>\n      <td>14.0</td>\n      <td>64637</td>\n    </tr>\n    <tr>\n      <th>15</th>\n      <td>15.0</td>\n      <td>75707</td>\n    </tr>\n    <tr>\n      <th>16</th>\n      <td>16.0</td>\n      <td>67883</td>\n    </tr>\n    <tr>\n      <th>17</th>\n      <td>17.0</td>\n      <td>57549</td>\n    </tr>\n    <tr>\n      <th>18</th>\n      <td>18.0</td>\n      <td>56060</td>\n    </tr>\n    <tr>\n      <th>19</th>\n      <td>19.0</td>\n      <td>42050</td>\n    </tr>\n    <tr>\n      <th>20</th>\n      <td>20.0</td>\n      <td>36281</td>\n    </tr>\n    <tr>\n      <th>21</th>\n      <td>21.0</td>\n      <td>34275</td>\n    </tr>\n    <tr>\n      <th>22</th>\n      <td>22.0</td>\n      <td>31843</td>\n    </tr>\n    <tr>\n      <th>23</th>\n      <td>23.0</td>\n      <td>25702</td>\n    </tr>\n  </tbody>\n</table>\n</div>",
                        "text/plain": "    HOUR  COUNT\n0    0.0  14923\n1    1.0  10405\n2    2.0   6202\n3    3.0    681\n4    4.0    229\n5    5.0   1092\n6    6.0   5473\n7    7.0  32936\n8    8.0  47336\n9    9.0  45386\n10  10.0  47519\n11  11.0  40166\n12  12.0  34694\n13  13.0  46078\n14  14.0  64637\n15  15.0  75707\n16  16.0  67883\n17  17.0  57549\n18  18.0  56060\n19  19.0  42050\n20  20.0  36281\n21  21.0  34275\n22  22.0  31843\n23  23.0  25702"
                    },
                    "execution_count": 21,
                    "metadata": {},
                    "output_type": "execute_result"
                }
            ],
            "source": "# dropping NaN:\n\ndf1 = df1.drop([24])\ndf1"
        },
        {
            "cell_type": "code",
            "execution_count": 23,
            "metadata": {},
            "outputs": [
                {
                    "name": "stdout",
                    "output_type": "stream",
                    "text": " * ibm_db_sa://xsh62386:***@dashdb-txn-sbox-yp-dal09-10.services.dal.bluemix.net:50000/BLUDB\nDone.\n"
                },
                {
                    "data": {
                        "text/html": "<div>\n<style scoped>\n    .dataframe tbody tr th:only-of-type {\n        vertical-align: middle;\n    }\n\n    .dataframe tbody tr th {\n        vertical-align: top;\n    }\n\n    .dataframe thead th {\n        text-align: right;\n    }\n</style>\n<table border=\"1\" class=\"dataframe\">\n  <thead>\n    <tr style=\"text-align: right;\">\n      <th></th>\n      <th>HOUR</th>\n      <th>COUNT</th>\n    </tr>\n  </thead>\n  <tbody>\n    <tr>\n      <th>0</th>\n      <td>0</td>\n      <td>10567</td>\n    </tr>\n    <tr>\n      <th>1</th>\n      <td>1</td>\n      <td>6451</td>\n    </tr>\n    <tr>\n      <th>2</th>\n      <td>2</td>\n      <td>2197</td>\n    </tr>\n    <tr>\n      <th>3</th>\n      <td>3</td>\n      <td>744</td>\n    </tr>\n    <tr>\n      <th>4</th>\n      <td>4</td>\n      <td>318</td>\n    </tr>\n    <tr>\n      <th>5</th>\n      <td>5</td>\n      <td>618</td>\n    </tr>\n    <tr>\n      <th>6</th>\n      <td>6</td>\n      <td>3088</td>\n    </tr>\n    <tr>\n      <th>7</th>\n      <td>7</td>\n      <td>8614</td>\n    </tr>\n    <tr>\n      <th>8</th>\n      <td>8</td>\n      <td>15152</td>\n    </tr>\n    <tr>\n      <th>9</th>\n      <td>9</td>\n      <td>16847</td>\n    </tr>\n    <tr>\n      <th>10</th>\n      <td>10</td>\n      <td>14427</td>\n    </tr>\n    <tr>\n      <th>11</th>\n      <td>11</td>\n      <td>10842</td>\n    </tr>\n    <tr>\n      <th>12</th>\n      <td>12</td>\n      <td>9330</td>\n    </tr>\n    <tr>\n      <th>13</th>\n      <td>13</td>\n      <td>13203</td>\n    </tr>\n    <tr>\n      <th>14</th>\n      <td>14</td>\n      <td>17492</td>\n    </tr>\n    <tr>\n      <th>15</th>\n      <td>15</td>\n      <td>20184</td>\n    </tr>\n    <tr>\n      <th>16</th>\n      <td>16</td>\n      <td>19003</td>\n    </tr>\n    <tr>\n      <th>17</th>\n      <td>17</td>\n      <td>23888</td>\n    </tr>\n    <tr>\n      <th>18</th>\n      <td>18</td>\n      <td>26370</td>\n    </tr>\n    <tr>\n      <th>19</th>\n      <td>19</td>\n      <td>15930</td>\n    </tr>\n    <tr>\n      <th>20</th>\n      <td>20</td>\n      <td>10963</td>\n    </tr>\n    <tr>\n      <th>21</th>\n      <td>21</td>\n      <td>11616</td>\n    </tr>\n    <tr>\n      <th>22</th>\n      <td>22</td>\n      <td>12544</td>\n    </tr>\n    <tr>\n      <th>23</th>\n      <td>23</td>\n      <td>12897</td>\n    </tr>\n  </tbody>\n</table>\n</div>",
                        "text/plain": "    HOUR  COUNT\n0      0  10567\n1      1   6451\n2      2   2197\n3      3    744\n4      4    318\n5      5    618\n6      6   3088\n7      7   8614\n8      8  15152\n9      9  16847\n10    10  14427\n11    11  10842\n12    12   9330\n13    13  13203\n14    14  17492\n15    15  20184\n16    16  19003\n17    17  23888\n18    18  26370\n19    19  15930\n20    20  10963\n21    21  11616\n22    22  12544\n23    23  12897"
                    },
                    "execution_count": 23,
                    "metadata": {},
                    "output_type": "execute_result"
                }
            ],
            "source": "# calculating total stops per every hour in MT:\n\nVTCount = %sql select hour(STOP_TIME) as hour, count(*) as COUNT from VT_CLEANED \\\n            group by hour(STOP_TIME) \\\n            order by hour(STOP_TIME)\ndf2 = VTCount.DataFrame()\ndf2"
        },
        {
            "cell_type": "code",
            "execution_count": 24,
            "metadata": {},
            "outputs": [
                {
                    "name": "stdout",
                    "output_type": "stream",
                    "text": "Difference for MT =  75478\nDifference for VT =  26052\n"
                }
            ],
            "source": "# Answer to Problem 6:\n\nprint(\"Difference for MT = \", max(df1['COUNT'])-min(df1['COUNT']))\nprint(\"Difference for VT = \", max(df2['COUNT'])-min(df2['COUNT']))"
        },
        {
            "cell_type": "code",
            "execution_count": 107,
            "metadata": {
                "scrolled": true
            },
            "outputs": [
                {
                    "name": "stdout",
                    "output_type": "stream",
                    "text": " * ibm_db_sa://xsh62386:***@dashdb-txn-sbox-yp-dal09-10.services.dal.bluemix.net:50000/BLUDB\nDone.\n"
                },
                {
                    "data": {
                        "text/html": "<div>\n<style scoped>\n    .dataframe tbody tr th:only-of-type {\n        vertical-align: middle;\n    }\n\n    .dataframe tbody tr th {\n        vertical-align: top;\n    }\n\n    .dataframe thead th {\n        text-align: right;\n    }\n</style>\n<table border=\"1\" class=\"dataframe\">\n  <thead>\n    <tr style=\"text-align: right;\">\n      <th></th>\n      <th>county_name</th>\n      <th>lat</th>\n      <th>lon</th>\n    </tr>\n  </thead>\n  <tbody>\n    <tr>\n      <th>0</th>\n      <td>Cascade County</td>\n      <td>47.572738</td>\n      <td>-111.802932</td>\n    </tr>\n    <tr>\n      <th>1</th>\n      <td>Missoula County</td>\n      <td>46.761225</td>\n      <td>-114.081142</td>\n    </tr>\n    <tr>\n      <th>2</th>\n      <td>Missoula County</td>\n      <td>46.694683</td>\n      <td>-114.073505</td>\n    </tr>\n    <tr>\n      <th>3</th>\n      <td>Missoula County</td>\n      <td>46.727388</td>\n      <td>-114.079027</td>\n    </tr>\n    <tr>\n      <th>4</th>\n      <td>Missoula County</td>\n      <td>46.729518</td>\n      <td>-114.079150</td>\n    </tr>\n  </tbody>\n</table>\n</div>",
                        "text/plain": "       county_name        lat         lon\n0   Cascade County  47.572738 -111.802932\n1  Missoula County  46.761225 -114.081142\n2  Missoula County  46.694683 -114.073505\n3  Missoula County  46.727388 -114.079027\n4  Missoula County  46.729518 -114.079150"
                    },
                    "execution_count": 107,
                    "metadata": {},
                    "output_type": "execute_result"
                }
            ],
            "source": "# Problem 7:\n\nMT = %sql select COUNTY_NAME, LAT, LON from MT_CLEANED\ndf3 = MT.DataFrame()\ndf3['lat'] = df3['lat'].astype(float)\ndf3['lon'] = df3['lon'].astype(float)\ndf3 = df3.dropna()\ndf3.head()"
        },
        {
            "cell_type": "code",
            "execution_count": 113,
            "metadata": {
                "scrolled": true
            },
            "outputs": [
                {
                    "name": "stdout",
                    "output_type": "stream",
                    "text": " * ibm_db_sa://xsh62386:***@dashdb-txn-sbox-yp-dal09-10.services.dal.bluemix.net:50000/BLUDB\nDone.\n"
                },
                {
                    "data": {
                        "text/html": "<div>\n<style scoped>\n    .dataframe tbody tr th:only-of-type {\n        vertical-align: middle;\n    }\n\n    .dataframe tbody tr th {\n        vertical-align: top;\n    }\n\n    .dataframe thead th {\n        text-align: right;\n    }\n</style>\n<table border=\"1\" class=\"dataframe\">\n  <thead>\n    <tr style=\"text-align: right;\">\n      <th></th>\n      <th>county_name</th>\n      <th>total</th>\n    </tr>\n  </thead>\n  <tbody>\n    <tr>\n      <th>0</th>\n      <td>Beaverhead County</td>\n      <td>6513</td>\n    </tr>\n    <tr>\n      <th>1</th>\n      <td>Big Horn County</td>\n      <td>12460</td>\n    </tr>\n    <tr>\n      <th>2</th>\n      <td>Blaine County</td>\n      <td>7265</td>\n    </tr>\n    <tr>\n      <th>3</th>\n      <td>Broadwater County</td>\n      <td>11535</td>\n    </tr>\n    <tr>\n      <th>4</th>\n      <td>Carbon County</td>\n      <td>8963</td>\n    </tr>\n  </tbody>\n</table>\n</div>",
                        "text/plain": "         county_name  total\n0  Beaverhead County   6513\n1    Big Horn County  12460\n2      Blaine County   7265\n3  Broadwater County  11535\n4      Carbon County   8963"
                    },
                    "execution_count": 113,
                    "metadata": {},
                    "output_type": "execute_result"
                }
            ],
            "source": "CNTS = %sql select COUNTY_NAME, count(*) as total from MT_CLEANED\\\n        group by COUNTY_NAME\ndf3 = CNTS.DataFrame()\ndf3.head()"
        },
        {
            "cell_type": "code",
            "execution_count": 132,
            "metadata": {},
            "outputs": [
                {
                    "name": "stdout",
                    "output_type": "stream",
                    "text": " * ibm_db_sa://xsh62386:***@dashdb-txn-sbox-yp-dal09-10.services.dal.bluemix.net:50000/BLUDB\nDone.\n"
                }
            ],
            "source": "Beaver = %sql select lat, lon from MT_CLEANED where COUNTY_NAME = 'Beaverhead County'\nBeaverdf = Beaver.DataFrame()\nBeaverdf = Beaverdf.astype(float)\nBeaverdf.dropna(subset = ['lat','lon'], inplace=True)\npoints = Beaverdf.values.tolist()"
        },
        {
            "cell_type": "code",
            "execution_count": 137,
            "metadata": {},
            "outputs": [],
            "source": "hull = ConvexHull(points)"
        },
        {
            "cell_type": "code",
            "execution_count": 140,
            "metadata": {},
            "outputs": [
                {
                    "data": {
                        "text/plain": "0"
                    },
                    "execution_count": 140,
                    "metadata": {},
                    "output_type": "execute_result"
                }
            ],
            "source": "from area import area\nobj = {'type':'Polygon','coordinates':[[hull]]}\narea(obj)"
        },
        {
            "cell_type": "code",
            "execution_count": null,
            "metadata": {},
            "outputs": [],
            "source": ""
        }
    ],
    "metadata": {
        "kernelspec": {
            "display_name": "Python 3.6",
            "language": "python",
            "name": "python3"
        },
        "language_info": {
            "codemirror_mode": {
                "name": "ipython",
                "version": 3
            },
            "file_extension": ".py",
            "mimetype": "text/x-python",
            "name": "python",
            "nbconvert_exporter": "python",
            "pygments_lexer": "ipython3",
            "version": "3.6.9"
        }
    },
    "nbformat": 4,
    "nbformat_minor": 1
}